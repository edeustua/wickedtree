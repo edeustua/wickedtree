{
 "cells": [
  {
   "cell_type": "code",
   "execution_count": 1,
   "metadata": {},
   "outputs": [],
   "source": [
    "from wickedtree.main import run\n",
    "from wickedtree.bintree import Operator\n",
    "\n",
    "from fractions import Fraction"
   ]
  },
  {
   "cell_type": "markdown",
   "metadata": {},
   "source": [
    "## Matrix elements of a similarity transformed Hamiltonian\n",
    "In this example, we are going to create one component of a two-body operator, `h2a(oooo)`, $\\bar{H}_{ij}^{kl}$, all whose indices are occupied (i.e., indices are i, j, k, l), and calculate the expressions corresponding to its expectation value with respect to triply excited determinants, as in:\n",
    "\n",
    "$$\n",
    "\\langle \\Phi_{ijk}^{abc} | \\bar{H}^{(\\text{oooo})} | \\Phi_{ijk}^{abc} \\rangle\n",
    "$$"
   ]
  },
  {
   "cell_type": "code",
   "execution_count": 2,
   "metadata": {},
   "outputs": [],
   "source": [
    "# Two-body similarity transformed Hamiltonian\n",
    "h2a = Operator(\"h2a(oooo)\", \"p q sd rd\", typs='oooo',\n",
    "        weight=Fraction(1,2))\n",
    "\n",
    "bra = Operator(\"bra\", \"a3 a2 a1 i3 i2 i1\")\n",
    "ket = Operator(\"ket\", \"i1d i2d i3d a1d a2d a3d\")\n",
    "\n",
    "exps = run(h2a, bra, ket)"
   ]
  },
  {
   "cell_type": "code",
   "execution_count": 3,
   "metadata": {},
   "outputs": [
    {
     "name": "stdout",
     "output_type": "stream",
     "text": [
      "--------------\n",
      "h2a(oooo)(p q s† r†)\n",
      "1 h2a(oooo)_{i2i1}^{i2i1}\n",
      "--------------\n",
      "\n",
      "--------------\n",
      "h2a(oooo)(p q s† r†)\n",
      "1 h2a(oooo)_{i3i1}^{i3i1}\n",
      "--------------\n",
      "\n",
      "--------------\n",
      "h2a(oooo)(p q s† r†)\n",
      "1 h2a(oooo)_{i3i2}^{i3i2}\n",
      "--------------\n",
      "\n"
     ]
    }
   ],
   "source": [
    "# Print fully contracted expressions\n",
    "for exp in exps:\n",
    "    print(\"--------------\")\n",
    "    print(exp[0])\n",
    "    print(exp[1], exp[2])\n",
    "    print(\"--------------\\n\")"
   ]
  }
 ],
 "metadata": {
  "kernelspec": {
   "display_name": "Python 3",
   "language": "python",
   "name": "python3"
  },
  "language_info": {
   "codemirror_mode": {
    "name": "ipython",
    "version": 3
   },
   "file_extension": ".py",
   "mimetype": "text/x-python",
   "name": "python",
   "nbconvert_exporter": "python",
   "pygments_lexer": "ipython3",
   "version": "3.8.3"
  }
 },
 "nbformat": 4,
 "nbformat_minor": 4
}
